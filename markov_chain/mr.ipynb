{
 "metadata": {
  "language_info": {
   "codemirror_mode": {
    "name": "ipython",
    "version": 3
   },
   "file_extension": ".py",
   "mimetype": "text/x-python",
   "name": "python",
   "nbconvert_exporter": "python",
   "pygments_lexer": "ipython3",
   "version": "3.8.10"
  },
  "orig_nbformat": 2,
  "kernelspec": {
   "name": "python3810jvsc74a57bd0cf0b2b8ecc381f0befbe9d78cf18129e6f6351f598707efe2c6e3ab3b7ac44c7",
   "display_name": "Python 3.8.10 64-bit (windows store)"
  },
  "metadata": {
   "interpreter": {
    "hash": "cf0b2b8ecc381f0befbe9d78cf18129e6f6351f598707efe2c6e3ab3b7ac44c7"
   }
  }
 },
 "nbformat": 4,
 "nbformat_minor": 2,
 "cells": [
  {
   "cell_type": "code",
   "execution_count": 3,
   "metadata": {},
   "outputs": [],
   "source": [
    "import numpy as np\n",
    "board = 100\n",
    "dice=6\n",
    "state = board+1+(2*dice)\n",
    "\n",
    "\n",
    "snakes_ladders = [[1, 38], [4, 14], [9, 31], [21, 42], [28, 84], [36, 44], [51, 67], [71, 91], [80, 100], [16, 6], [47, 26], [49, 11], [56, 53], [62, 19],[64, 60], [87, 24], [93, 73], [95, 75], [98, 78]]\n",
    "\n",
    "def transition_matrix1(dice, board, state):\n",
    "    M = np.zeros((state, state), dtype=float)\n",
    "    for i in range(0, state):\n",
    "        for j in range(1, state):\n",
    "            if j <= (2*dice) and i <= board-(2*dice):\n",
    "                M[i, j+i-1] = (dice - abs(j-(dice+1)))/(dice*dice)\n",
    "            if i >= board-(2*dice):\n",
    "                if i < board and (state-j)<=(2*dice):\n",
    "                    M[i, state-j+i-1] = (dice - abs((state-j)-(dice+1)))/(dice*dice)\n",
    "            \"\"\"if i >= board-(2*dice) :\n",
    "                #M[i, i] = ((dice-board)+i)/dice\n",
    "                if i < board  and state-j<=2*dice:\n",
    "                    M[i, state-j+i] = (dice - abs(j-(dice+1)))/(dice*dice)\"\"\"\n",
    "            if i>=board:\n",
    "                M[i,i]=1\n",
    "    return M\n",
    "# transition matrix with  snake and ladder ####ladders=0,\n",
    "\n",
    "\n",
    "def snake_ladder(M, snakes, state):\n",
    "    for i in range(0, state):\n",
    "        for snake in snakes:\n",
    "            if i < snake[0]:\n",
    "                M[i, snake[1]] = M[i, snake[1]] + M[i, snake[0]]\n",
    "            M[snake[0], i] = 0\n",
    "            M[i, snake[0]] = 0\n",
    "    return M\n",
    "\n",
    "\n",
    "# calculating length of the game based on fundamental form\n",
    "def fundamental_form(M):\n",
    "    Q = M[:-((2*dice)+1), :-((2*dice)+1)]\n",
    "    N = np.linalg.inv(np.identity(len(Q))-Q)\n",
    "    length = np.matmul(N, np.ones((len(N), 1)))\n",
    "    return length[0][0]\n",
    "def expectation():\n",
    "    print(fundamental_form(snake_ladder(\n",
    "            transition_matrix1(dice, board, state), snakes_ladders, state)))\n",
    "#expectation()\n"
   ]
  },
  {
   "cell_type": "code",
   "execution_count": 4,
   "metadata": {},
   "outputs": [
    {
     "output_type": "stream",
     "name": "stdout",
     "text": [
      "19.747206117926744\n"
     ]
    }
   ],
   "source": [
    "#print(transition_matrix1(dice, board, state))\n",
    "expectation()\n"
   ]
  },
  {
   "cell_type": "code",
   "execution_count": 5,
   "metadata": {},
   "outputs": [],
   "source": [
    "import numpy"
   ]
  },
  {
   "cell_type": "code",
   "execution_count": 11,
   "metadata": {},
   "outputs": [
    {
     "output_type": "execute_result",
     "data": {
      "text/plain": [
       "array([95, 88])"
      ]
     },
     "metadata": {},
     "execution_count": 11
    }
   ],
   "source": [
    "np.random.choice(100,size=2,replace=False)"
   ]
  },
  {
   "cell_type": "code",
   "execution_count": 12,
   "metadata": {},
   "outputs": [],
   "source": [
    "import math"
   ]
  },
  {
   "cell_type": "code",
   "execution_count": 13,
   "metadata": {},
   "outputs": [
    {
     "output_type": "stream",
     "name": "stdout",
     "text": [
      "93326215443944152681699238856266700490715968264381621468592963895217599993229915608941463976156518286253697920827223758251185210916864000000000000000000000000\n"
     ]
    }
   ],
   "source": [
    "print(math.factorial(100))"
   ]
  },
  {
   "cell_type": "code",
   "execution_count": 14,
   "metadata": {},
   "outputs": [],
   "source": [
    "x=(math.factorial(100))/((2**50)*math.factorial(50))"
   ]
  },
  {
   "cell_type": "code",
   "execution_count": 1,
   "metadata": {},
   "outputs": [],
   "source": [
    "import os,sys\n",
    "dir_path=os.path.dirname(\"C:\\\\Users\\\\edway\\\\Desktop\\\\maths\\\\thesis\\\\algo_thesis\\\\game\")\n",
    "sys.path.append(dir_path)\n",
    "import numpy as np\n",
    "from game.harmoni import Harmonic\n",
    "\n",
    "class Markov(object):\n",
    "    snakes_ladders = [[1, 38], [4, 14], [9, 31], [21, 42], [28, 84], [36, 44], [51, 67], [71, 91], [80, 100], [\n",
    "        16, 6], [47, 26], [49, 11], [56, 53], [62, 19], [64, 60], [87, 24], [93, 73], [95, 75], [98, 78]]\n",
    "\n",
    "    def __init__(self, dice, board):\n",
    "        self.dice = dice\n",
    "        self.board = board\n",
    "        self.state = board+1\n",
    "        self.dist=[]\n",
    "        nth=Harmonic(self.dice)\n",
    "        \n",
    "        for d in range(1,self.dice+1):\n",
    "            self.dist.append(1/(d*nth.harmonic()))\n",
    "        print(sum(self.dist))\n",
    "\n",
    "    def bmatrix(self, a):\n",
    "        \"\"\"Returns a LaTeX bmatrix\n",
    "\n",
    "        :a: numpy array\n",
    "        :returns: LaTeX bmatrix as a string\n",
    "        \"\"\"\n",
    "        if len(a.shape) > 2:\n",
    "            raise ValueError('bmatrix can at most display two dimensions')\n",
    "        lines = str(a).replace('[', '').replace(']', '').splitlines()\n",
    "        rv = [r'\\left(\\begin{array}{*{17}c}']\n",
    "        rv += ['  ' + ' & '.join(l.split()) + r'\\\\' for l in lines]\n",
    "        rv += [r'\\end{array}\\right)']\n",
    "        return '\\n'.join(rv)\n",
    "    \n",
    "    def transition_matrix2(self):\n",
    "        self.state=self.state + self.dice - 1\n",
    "        M = np.zeros((self.state, self.state), dtype=float)\n",
    "        for i in range(0, self.state):\n",
    "            for j in range(1, self.state):\n",
    "                if j <= self.dice and i <= (self.board - self.dice):\n",
    "                    M[i, j+i] = 1/self.dice\n",
    "                if i >= (self.board-self.dice):\n",
    "                    if i < self.board  and (self.state-j)<=self.dice:\n",
    "                        M[i, self.state-j+i] = 1/self.dice\n",
    "                if i>=self.board:\n",
    "                    M[i,i]=1\n",
    "        return M\n",
    "    \n",
    "    #more tha one dice\n",
    "    def transition_matrix3(self):\n",
    "        acc=0\n",
    "        Tdice=2*self.dice\n",
    "        M=np.zeros((self.state,self.state),dtype=float)\n",
    "        for i in range(0,self.state):\n",
    "            for j in range(1,self.state):\n",
    "                if j <= (Tdice) and i <= (self.board):\n",
    "                    if j+i <= len(M):\n",
    "                        M[i,i+j-1]=(self.dice - abs(j-(self.dice+1)))/(self.dice*self.dice)\n",
    "                \"\"\"if i > self.board-Tdice and i<=self.board:\n",
    "                    if j+i <= len(M):\n",
    "                        M[i, j+i-1]=(self.dice - abs(j-(self.dice+1)))/(self.dice*self.dice)\"\"\"\n",
    "        for i in range(0,self.state):\n",
    "            for j in range(1,self.state):\n",
    "                acc += M[i,j]\n",
    "            M[i,i]=1-acc\n",
    "            acc=0\n",
    "        return M\n",
    "    def transition_matrix1(self):\n",
    "        M = np.zeros((self.state, self.state), dtype=float)\n",
    "        for i in range(0, self.state):\n",
    "            for j in range(1, self.state):\n",
    "                if j <= (self.dice) and i <= (self.board-self.dice):\n",
    "                    M[i, j+i] = 1/self.dice\n",
    "                if i >= self.board-self.dice:\n",
    "                    M[i, i] = ((self.dice-self.board)+i)/self.dice\n",
    "                    if j+i < len(M):\n",
    "                        M[i, j+i] = 1/self.dice\n",
    "        \n",
    "        return M\n",
    "    def transition_harmonic(self):\n",
    "        acc=0\n",
    "        M = np.zeros((self.state, self.state), dtype=float)\n",
    "        for i in range(0, self.state):\n",
    "            for j in range(1, self.state):\n",
    "                if j <= (self.dice) and i <= (self.board-self.dice):\n",
    "                    M[i, j+i] = self.dist[j-1]\n",
    "                if i>=self.board - self.dice:\n",
    "                    if j+i<len(M):\n",
    "                        M[i,j+i]=self.dist[j-1]\n",
    "        for i in range(0,self.state):\n",
    "            for j in range(1,self.state):\n",
    "                acc += M[i,j]\n",
    "            M[i,i]=1-acc\n",
    "            acc=0\n",
    "        return M\n",
    "                \n",
    "    def snake_ladder(self, M, snakes):\n",
    "        for i in range(0, self.state):\n",
    "            for j in range(0, self.state):\n",
    "                for snake in snakes:\n",
    "                    if j == snake[0]:\n",
    "                        x = M[i, snake[0]]\n",
    "                        M[snake[0]] = 0\n",
    "                        M[i, snake[1]] = M[i, snake[1]] + x\n",
    "                        M[i, snake[0]] = 0\n",
    "\n",
    "        return M\n",
    "    \n",
    "    def fundamental_form(self, M):\n",
    "        Q = M[:-1, :-1]\n",
    "        N = np.linalg.inv(np.identity(len(Q)) - Q)\n",
    "        length = np.matmul(N, np.ones((len(N), 1)))\n",
    "        # print(self.bmatrix(length))\n",
    "        return length[0][0]\n"
   ]
  },
  {
   "cell_type": "code",
   "execution_count": 1,
   "metadata": {},
   "outputs": [
    {
     "output_type": "stream",
     "name": "stdout",
     "text": [
      "[[0.         0.19277564 0.09638782 ... 0.0019671  0.00194723 0.00192776]\n [0.         0.00192776 0.19277564 ... 0.00198738 0.0019671  0.00194723]\n [0.         0.         0.00387499 ... 0.00200808 0.00198738 0.0019671 ]\n ...\n [0.         0.         0.         ... 0.71083655 0.19277564 0.09638782]\n [0.         0.         0.         ... 0.         0.80722436 0.19277564]\n [0.         0.         0.         ... 0.         0.         1.        ]]\n"
     ]
    }
   ],
   "source": [
    "import os,sys\n",
    "dir_path=os.path.dirname(\"C:\\\\Users\\\\edway\\\\Desktop\\\\maths\\\\thesis\\\\algo_thesis\\\\game\")\n",
    "sys.path.append(dir_path)\n",
    "from markov_og import Markov\n",
    "from game.snake_ladder import Snakes\n",
    "from pandas import DataFrame\n",
    "import ast\n",
    "lists=[]\n",
    "avg=[]\n",
    "\n",
    "uu=[[4,13],[14,7],[6,3]]\n",
    "\n",
    "snake=Snakes(0,0)\n",
    "markov=Markov(100,100)\n",
    "trans1=markov.transition_harmonic()\n",
    "print(trans1)\n",
    "du=DataFrame(trans1)\n",
    "#sl=markov.snake_ladder(trans1,uu)\n",
    "#df=DataFrame(sl)\n",
    "#print(sl)\n",
    "#result=markov.fundamental_form(sl)\n",
    "#print(result)\n"
   ]
  },
  {
   "cell_type": "code",
   "execution_count": 2,
   "metadata": {},
   "outputs": [
    {
     "output_type": "execute_result",
     "data": {
      "text/plain": [
       "     0         1         2         3    4         5    6         7         8   \\\n",
       "0   0.0  0.295794  0.147897  0.147897  0.0  0.059159  0.0  0.063384  0.036974   \n",
       "1   0.0  0.018487  0.295794  0.207056  0.0  0.073949  0.0  0.072052  0.042256   \n",
       "2   0.0  0.000000  0.038207  0.369743  0.0  0.098598  0.0  0.083808  0.049299   \n",
       "3   0.0  0.000000  0.000000  0.157933  0.0  0.147897  0.0  0.100839  0.059159   \n",
       "4   0.0  0.000000  0.000000  0.000000  0.0  0.000000  0.0  0.000000  0.000000   \n",
       "5   0.0  0.000000  0.000000  0.295794  0.0  0.106738  0.0  0.180763  0.098598   \n",
       "6   0.0  0.000000  0.000000  0.000000  0.0  0.000000  0.0  0.000000  0.000000   \n",
       "7   0.0  0.000000  0.000000  0.000000  0.0  0.000000  0.0  0.205464  0.295794   \n",
       "8   0.0  0.000000  0.000000  0.000000  0.0  0.000000  0.0  0.049299  0.196074   \n",
       "9   0.0  0.000000  0.000000  0.000000  0.0  0.000000  0.0  0.059159  0.000000   \n",
       "10  0.0  0.000000  0.000000  0.000000  0.0  0.000000  0.0  0.073949  0.000000   \n",
       "11  0.0  0.000000  0.000000  0.000000  0.0  0.000000  0.0  0.098598  0.000000   \n",
       "12  0.0  0.000000  0.000000  0.000000  0.0  0.000000  0.0  0.147897  0.000000   \n",
       "13  0.0  0.000000  0.000000  0.000000  0.0  0.000000  0.0  0.295794  0.000000   \n",
       "14  0.0  0.000000  0.000000  0.000000  0.0  0.000000  0.0  0.000000  0.000000   \n",
       "15  0.0  0.000000  0.000000  0.000000  0.0  0.000000  0.0  0.000000  0.000000   \n",
       "16  0.0  0.000000  0.000000  0.000000  0.0  0.000000  0.0  0.000000  0.000000   \n",
       "\n",
       "          9         10        11        12        13   14        15        16  \n",
       "0   0.032866  0.029579  0.026890  0.024650  0.096702  0.0  0.019720  0.018487  \n",
       "1   0.036974  0.032866  0.029579  0.026890  0.123248  0.0  0.021128  0.019720  \n",
       "2   0.042256  0.036974  0.032866  0.029579  0.174787  0.0  0.022753  0.021128  \n",
       "3   0.049299  0.042256  0.036974  0.032866  0.325374  0.0  0.024650  0.022753  \n",
       "4   0.000000  0.000000  0.000000  0.000000  0.000000  0.0  0.000000  0.000000  \n",
       "5   0.073949  0.059159  0.049299  0.042256  0.036974  0.0  0.029579  0.026890  \n",
       "6   0.000000  0.000000  0.000000  0.000000  0.000000  0.0  0.000000  0.000000  \n",
       "7   0.147897  0.098598  0.073949  0.059159  0.049299  0.0  0.036974  0.032866  \n",
       "8   0.295794  0.147897  0.098598  0.073949  0.059159  0.0  0.042256  0.036974  \n",
       "9   0.233048  0.295794  0.147897  0.098598  0.073949  0.0  0.049299  0.042256  \n",
       "10  0.000000  0.275304  0.295794  0.147897  0.098598  0.0  0.059159  0.049299  \n",
       "11  0.000000  0.000000  0.324603  0.295794  0.147897  0.0  0.073949  0.059159  \n",
       "12  0.000000  0.000000  0.000000  0.383762  0.295794  0.0  0.098598  0.073949  \n",
       "13  0.000000  0.000000  0.000000  0.000000  0.457711  0.0  0.147897  0.098598  \n",
       "14  0.000000  0.000000  0.000000  0.000000  0.000000  0.0  0.000000  0.000000  \n",
       "15  0.000000  0.000000  0.000000  0.000000  0.000000  0.0  0.704206  0.295794  \n",
       "16  0.000000  0.000000  0.000000  0.000000  0.000000  0.0  0.000000  1.000000  "
      ],
      "text/html": "<div>\n<style scoped>\n    .dataframe tbody tr th:only-of-type {\n        vertical-align: middle;\n    }\n\n    .dataframe tbody tr th {\n        vertical-align: top;\n    }\n\n    .dataframe thead th {\n        text-align: right;\n    }\n</style>\n<table border=\"1\" class=\"dataframe\">\n  <thead>\n    <tr style=\"text-align: right;\">\n      <th></th>\n      <th>0</th>\n      <th>1</th>\n      <th>2</th>\n      <th>3</th>\n      <th>4</th>\n      <th>5</th>\n      <th>6</th>\n      <th>7</th>\n      <th>8</th>\n      <th>9</th>\n      <th>10</th>\n      <th>11</th>\n      <th>12</th>\n      <th>13</th>\n      <th>14</th>\n      <th>15</th>\n      <th>16</th>\n    </tr>\n  </thead>\n  <tbody>\n    <tr>\n      <th>0</th>\n      <td>0.0</td>\n      <td>0.295794</td>\n      <td>0.147897</td>\n      <td>0.147897</td>\n      <td>0.0</td>\n      <td>0.059159</td>\n      <td>0.0</td>\n      <td>0.063384</td>\n      <td>0.036974</td>\n      <td>0.032866</td>\n      <td>0.029579</td>\n      <td>0.026890</td>\n      <td>0.024650</td>\n      <td>0.096702</td>\n      <td>0.0</td>\n      <td>0.019720</td>\n      <td>0.018487</td>\n    </tr>\n    <tr>\n      <th>1</th>\n      <td>0.0</td>\n      <td>0.018487</td>\n      <td>0.295794</td>\n      <td>0.207056</td>\n      <td>0.0</td>\n      <td>0.073949</td>\n      <td>0.0</td>\n      <td>0.072052</td>\n      <td>0.042256</td>\n      <td>0.036974</td>\n      <td>0.032866</td>\n      <td>0.029579</td>\n      <td>0.026890</td>\n      <td>0.123248</td>\n      <td>0.0</td>\n      <td>0.021128</td>\n      <td>0.019720</td>\n    </tr>\n    <tr>\n      <th>2</th>\n      <td>0.0</td>\n      <td>0.000000</td>\n      <td>0.038207</td>\n      <td>0.369743</td>\n      <td>0.0</td>\n      <td>0.098598</td>\n      <td>0.0</td>\n      <td>0.083808</td>\n      <td>0.049299</td>\n      <td>0.042256</td>\n      <td>0.036974</td>\n      <td>0.032866</td>\n      <td>0.029579</td>\n      <td>0.174787</td>\n      <td>0.0</td>\n      <td>0.022753</td>\n      <td>0.021128</td>\n    </tr>\n    <tr>\n      <th>3</th>\n      <td>0.0</td>\n      <td>0.000000</td>\n      <td>0.000000</td>\n      <td>0.157933</td>\n      <td>0.0</td>\n      <td>0.147897</td>\n      <td>0.0</td>\n      <td>0.100839</td>\n      <td>0.059159</td>\n      <td>0.049299</td>\n      <td>0.042256</td>\n      <td>0.036974</td>\n      <td>0.032866</td>\n      <td>0.325374</td>\n      <td>0.0</td>\n      <td>0.024650</td>\n      <td>0.022753</td>\n    </tr>\n    <tr>\n      <th>4</th>\n      <td>0.0</td>\n      <td>0.000000</td>\n      <td>0.000000</td>\n      <td>0.000000</td>\n      <td>0.0</td>\n      <td>0.000000</td>\n      <td>0.0</td>\n      <td>0.000000</td>\n      <td>0.000000</td>\n      <td>0.000000</td>\n      <td>0.000000</td>\n      <td>0.000000</td>\n      <td>0.000000</td>\n      <td>0.000000</td>\n      <td>0.0</td>\n      <td>0.000000</td>\n      <td>0.000000</td>\n    </tr>\n    <tr>\n      <th>5</th>\n      <td>0.0</td>\n      <td>0.000000</td>\n      <td>0.000000</td>\n      <td>0.295794</td>\n      <td>0.0</td>\n      <td>0.106738</td>\n      <td>0.0</td>\n      <td>0.180763</td>\n      <td>0.098598</td>\n      <td>0.073949</td>\n      <td>0.059159</td>\n      <td>0.049299</td>\n      <td>0.042256</td>\n      <td>0.036974</td>\n      <td>0.0</td>\n      <td>0.029579</td>\n      <td>0.026890</td>\n    </tr>\n    <tr>\n      <th>6</th>\n      <td>0.0</td>\n      <td>0.000000</td>\n      <td>0.000000</td>\n      <td>0.000000</td>\n      <td>0.0</td>\n      <td>0.000000</td>\n      <td>0.0</td>\n      <td>0.000000</td>\n      <td>0.000000</td>\n      <td>0.000000</td>\n      <td>0.000000</td>\n      <td>0.000000</td>\n      <td>0.000000</td>\n      <td>0.000000</td>\n      <td>0.0</td>\n      <td>0.000000</td>\n      <td>0.000000</td>\n    </tr>\n    <tr>\n      <th>7</th>\n      <td>0.0</td>\n      <td>0.000000</td>\n      <td>0.000000</td>\n      <td>0.000000</td>\n      <td>0.0</td>\n      <td>0.000000</td>\n      <td>0.0</td>\n      <td>0.205464</td>\n      <td>0.295794</td>\n      <td>0.147897</td>\n      <td>0.098598</td>\n      <td>0.073949</td>\n      <td>0.059159</td>\n      <td>0.049299</td>\n      <td>0.0</td>\n      <td>0.036974</td>\n      <td>0.032866</td>\n    </tr>\n    <tr>\n      <th>8</th>\n      <td>0.0</td>\n      <td>0.000000</td>\n      <td>0.000000</td>\n      <td>0.000000</td>\n      <td>0.0</td>\n      <td>0.000000</td>\n      <td>0.0</td>\n      <td>0.049299</td>\n      <td>0.196074</td>\n      <td>0.295794</td>\n      <td>0.147897</td>\n      <td>0.098598</td>\n      <td>0.073949</td>\n      <td>0.059159</td>\n      <td>0.0</td>\n      <td>0.042256</td>\n      <td>0.036974</td>\n    </tr>\n    <tr>\n      <th>9</th>\n      <td>0.0</td>\n      <td>0.000000</td>\n      <td>0.000000</td>\n      <td>0.000000</td>\n      <td>0.0</td>\n      <td>0.000000</td>\n      <td>0.0</td>\n      <td>0.059159</td>\n      <td>0.000000</td>\n      <td>0.233048</td>\n      <td>0.295794</td>\n      <td>0.147897</td>\n      <td>0.098598</td>\n      <td>0.073949</td>\n      <td>0.0</td>\n      <td>0.049299</td>\n      <td>0.042256</td>\n    </tr>\n    <tr>\n      <th>10</th>\n      <td>0.0</td>\n      <td>0.000000</td>\n      <td>0.000000</td>\n      <td>0.000000</td>\n      <td>0.0</td>\n      <td>0.000000</td>\n      <td>0.0</td>\n      <td>0.073949</td>\n      <td>0.000000</td>\n      <td>0.000000</td>\n      <td>0.275304</td>\n      <td>0.295794</td>\n      <td>0.147897</td>\n      <td>0.098598</td>\n      <td>0.0</td>\n      <td>0.059159</td>\n      <td>0.049299</td>\n    </tr>\n    <tr>\n      <th>11</th>\n      <td>0.0</td>\n      <td>0.000000</td>\n      <td>0.000000</td>\n      <td>0.000000</td>\n      <td>0.0</td>\n      <td>0.000000</td>\n      <td>0.0</td>\n      <td>0.098598</td>\n      <td>0.000000</td>\n      <td>0.000000</td>\n      <td>0.000000</td>\n      <td>0.324603</td>\n      <td>0.295794</td>\n      <td>0.147897</td>\n      <td>0.0</td>\n      <td>0.073949</td>\n      <td>0.059159</td>\n    </tr>\n    <tr>\n      <th>12</th>\n      <td>0.0</td>\n      <td>0.000000</td>\n      <td>0.000000</td>\n      <td>0.000000</td>\n      <td>0.0</td>\n      <td>0.000000</td>\n      <td>0.0</td>\n      <td>0.147897</td>\n      <td>0.000000</td>\n      <td>0.000000</td>\n      <td>0.000000</td>\n      <td>0.000000</td>\n      <td>0.383762</td>\n      <td>0.295794</td>\n      <td>0.0</td>\n      <td>0.098598</td>\n      <td>0.073949</td>\n    </tr>\n    <tr>\n      <th>13</th>\n      <td>0.0</td>\n      <td>0.000000</td>\n      <td>0.000000</td>\n      <td>0.000000</td>\n      <td>0.0</td>\n      <td>0.000000</td>\n      <td>0.0</td>\n      <td>0.295794</td>\n      <td>0.000000</td>\n      <td>0.000000</td>\n      <td>0.000000</td>\n      <td>0.000000</td>\n      <td>0.000000</td>\n      <td>0.457711</td>\n      <td>0.0</td>\n      <td>0.147897</td>\n      <td>0.098598</td>\n    </tr>\n    <tr>\n      <th>14</th>\n      <td>0.0</td>\n      <td>0.000000</td>\n      <td>0.000000</td>\n      <td>0.000000</td>\n      <td>0.0</td>\n      <td>0.000000</td>\n      <td>0.0</td>\n      <td>0.000000</td>\n      <td>0.000000</td>\n      <td>0.000000</td>\n      <td>0.000000</td>\n      <td>0.000000</td>\n      <td>0.000000</td>\n      <td>0.000000</td>\n      <td>0.0</td>\n      <td>0.000000</td>\n      <td>0.000000</td>\n    </tr>\n    <tr>\n      <th>15</th>\n      <td>0.0</td>\n      <td>0.000000</td>\n      <td>0.000000</td>\n      <td>0.000000</td>\n      <td>0.0</td>\n      <td>0.000000</td>\n      <td>0.0</td>\n      <td>0.000000</td>\n      <td>0.000000</td>\n      <td>0.000000</td>\n      <td>0.000000</td>\n      <td>0.000000</td>\n      <td>0.000000</td>\n      <td>0.000000</td>\n      <td>0.0</td>\n      <td>0.704206</td>\n      <td>0.295794</td>\n    </tr>\n    <tr>\n      <th>16</th>\n      <td>0.0</td>\n      <td>0.000000</td>\n      <td>0.000000</td>\n      <td>0.000000</td>\n      <td>0.0</td>\n      <td>0.000000</td>\n      <td>0.0</td>\n      <td>0.000000</td>\n      <td>0.000000</td>\n      <td>0.000000</td>\n      <td>0.000000</td>\n      <td>0.000000</td>\n      <td>0.000000</td>\n      <td>0.000000</td>\n      <td>0.0</td>\n      <td>0.000000</td>\n      <td>1.000000</td>\n    </tr>\n  </tbody>\n</table>\n</div>"
     },
     "metadata": {},
     "execution_count": 2
    }
   ],
   "source": [
    "\n",
    "du"
   ]
  },
  {
   "cell_type": "code",
   "execution_count": 7,
   "metadata": {},
   "outputs": [
    {
     "output_type": "execute_result",
     "data": {
      "text/plain": [
       "0     0.0\n",
       "1     0.0\n",
       "2     0.0\n",
       "3     0.0\n",
       "4     0.0\n",
       "5     0.0\n",
       "6     0.0\n",
       "7     0.0\n",
       "8     0.0\n",
       "9     0.0\n",
       "10    0.0\n",
       "11    0.0\n",
       "12    0.0\n",
       "13    0.0\n",
       "14    0.0\n",
       "15    0.0\n",
       "16    0.0\n",
       "Name: 14, dtype: float64"
      ]
     },
     "metadata": {},
     "execution_count": 7
    }
   ],
   "source": [
    "df[14]\n"
   ]
  },
  {
   "cell_type": "code",
   "execution_count": 3,
   "metadata": {},
   "outputs": [
    {
     "output_type": "execute_result",
     "data": {
      "text/plain": [
       "array([[0.        , 0.29579419, 0.1478971 , 0.1478971 , 0.        ,\n",
       "        0.05915884, 0.        , 0.06338447, 0.03697427, 0.03286602,\n",
       "        0.02957942, 0.02689038, 0.02464952, 0.09670195, 0.        ,\n",
       "        0.01971961, 0.01848714],\n",
       "       [0.        , 0.01848714, 0.29579419, 0.20705593, 0.        ,\n",
       "        0.07394855, 0.        , 0.07205243, 0.04225631, 0.03697427,\n",
       "        0.03286602, 0.02957942, 0.02689038, 0.12324758, 0.        ,\n",
       "        0.02112816, 0.01971961],\n",
       "       [0.        , 0.        , 0.03820675, 0.36974274, 0.        ,\n",
       "        0.09859806, 0.        , 0.08380835, 0.04929903, 0.04225631,\n",
       "        0.03697427, 0.03286602, 0.02957942, 0.17478748, 0.        ,\n",
       "        0.0227534 , 0.02112816],\n",
       "       [0.        , 0.        , 0.        , 0.15793297, 0.        ,\n",
       "        0.1478971 , 0.        , 0.10083893, 0.05915884, 0.04929903,\n",
       "        0.04225631, 0.03697427, 0.03286602, 0.32537361, 0.        ,\n",
       "        0.02464952, 0.0227534 ],\n",
       "       [0.        , 0.        , 0.        , 0.        , 0.        ,\n",
       "        0.        , 0.        , 0.        , 0.        , 0.        ,\n",
       "        0.        , 0.        , 0.        , 0.        , 0.        ,\n",
       "        0.        , 0.        ],\n",
       "       [0.        , 0.        , 0.        , 0.29579419, 0.        ,\n",
       "        0.10673782, 0.        , 0.18076312, 0.09859806, 0.07394855,\n",
       "        0.05915884, 0.04929903, 0.04225631, 0.03697427, 0.        ,\n",
       "        0.02957942, 0.02689038],\n",
       "       [0.        , 0.        , 0.        , 0.        , 0.        ,\n",
       "        0.        , 0.        , 0.        , 0.        , 0.        ,\n",
       "        0.        , 0.        , 0.        , 0.        , 0.        ,\n",
       "        0.        , 0.        ],\n",
       "       [0.        , 0.        , 0.        , 0.        , 0.        ,\n",
       "        0.        , 0.        , 0.20546394, 0.29579419, 0.1478971 ,\n",
       "        0.09859806, 0.07394855, 0.05915884, 0.04929903, 0.        ,\n",
       "        0.03697427, 0.03286602],\n",
       "       [0.        , 0.        , 0.        , 0.        , 0.        ,\n",
       "        0.        , 0.        , 0.04929903, 0.19607364, 0.29579419,\n",
       "        0.1478971 , 0.09859806, 0.07394855, 0.05915884, 0.        ,\n",
       "        0.04225631, 0.03697427],\n",
       "       [0.        , 0.        , 0.        , 0.        , 0.        ,\n",
       "        0.        , 0.        , 0.05915884, 0.        , 0.23304792,\n",
       "        0.29579419, 0.1478971 , 0.09859806, 0.07394855, 0.        ,\n",
       "        0.04929903, 0.04225631],\n",
       "       [0.        , 0.        , 0.        , 0.        , 0.        ,\n",
       "        0.        , 0.        , 0.07394855, 0.        , 0.        ,\n",
       "        0.27530423, 0.29579419, 0.1478971 , 0.09859806, 0.        ,\n",
       "        0.05915884, 0.04929903],\n",
       "       [0.        , 0.        , 0.        , 0.        , 0.        ,\n",
       "        0.        , 0.        , 0.09859806, 0.        , 0.        ,\n",
       "        0.        , 0.32460326, 0.29579419, 0.1478971 , 0.        ,\n",
       "        0.07394855, 0.05915884],\n",
       "       [0.        , 0.        , 0.        , 0.        , 0.        ,\n",
       "        0.        , 0.        , 0.1478971 , 0.        , 0.        ,\n",
       "        0.        , 0.        , 0.3837621 , 0.29579419, 0.        ,\n",
       "        0.09859806, 0.07394855],\n",
       "       [0.        , 0.        , 0.        , 0.        , 0.        ,\n",
       "        0.        , 0.        , 0.29579419, 0.        , 0.        ,\n",
       "        0.        , 0.        , 0.        , 0.45771065, 0.        ,\n",
       "        0.1478971 , 0.09859806],\n",
       "       [0.        , 0.        , 0.        , 0.        , 0.        ,\n",
       "        0.        , 0.        , 0.        , 0.        , 0.        ,\n",
       "        0.        , 0.        , 0.        , 0.        , 0.        ,\n",
       "        0.        , 0.        ],\n",
       "       [0.        , 0.        , 0.        , 0.        , 0.        ,\n",
       "        0.        , 0.        , 0.        , 0.        , 0.        ,\n",
       "        0.        , 0.        , 0.        , 0.        , 0.        ,\n",
       "        0.70420581, 0.29579419],\n",
       "       [0.        , 0.        , 0.        , 0.        , 0.        ,\n",
       "        0.        , 0.        , 0.        , 0.        , 0.        ,\n",
       "        0.        , 0.        , 0.        , 0.        , 0.        ,\n",
       "        0.        , 1.        ]])"
      ]
     },
     "metadata": {},
     "execution_count": 3
    }
   ],
   "source": [
    "trans1"
   ]
  },
  {
   "cell_type": "code",
   "execution_count": 1,
   "metadata": {},
   "outputs": [
    {
     "output_type": "error",
     "ename": "ModuleNotFoundError",
     "evalue": "No module named 'harmoni'",
     "traceback": [
      "\u001b[1;31m---------------------------------------------------------------------------\u001b[0m",
      "\u001b[1;31mModuleNotFoundError\u001b[0m                       Traceback (most recent call last)",
      "\u001b[1;32m<ipython-input-1-d2b9d23c76ad>\u001b[0m in \u001b[0;36m<module>\u001b[1;34m\u001b[0m\n\u001b[0;32m      3\u001b[0m \u001b[0msys\u001b[0m\u001b[1;33m.\u001b[0m\u001b[0mpath\u001b[0m\u001b[1;33m.\u001b[0m\u001b[0mappend\u001b[0m\u001b[1;33m(\u001b[0m\u001b[0mdir_path\u001b[0m\u001b[1;33m)\u001b[0m\u001b[1;33m\u001b[0m\u001b[1;33m\u001b[0m\u001b[0m\n\u001b[0;32m      4\u001b[0m \u001b[1;32mimport\u001b[0m \u001b[0mnumpy\u001b[0m \u001b[1;32mas\u001b[0m \u001b[0mnp\u001b[0m\u001b[1;33m\u001b[0m\u001b[1;33m\u001b[0m\u001b[0m\n\u001b[1;32m----> 5\u001b[1;33m \u001b[1;32mfrom\u001b[0m \u001b[0mharmoni\u001b[0m \u001b[1;32mimport\u001b[0m \u001b[0mHarmonic\u001b[0m\u001b[1;33m\u001b[0m\u001b[1;33m\u001b[0m\u001b[0m\n\u001b[0m\u001b[0;32m      6\u001b[0m \u001b[1;32mfrom\u001b[0m \u001b[0mresult\u001b[0m \u001b[1;32mimport\u001b[0m \u001b[0mresult\u001b[0m\u001b[1;33m\u001b[0m\u001b[1;33m\u001b[0m\u001b[0m\n\u001b[0;32m      7\u001b[0m snakes = [[1, 38], [4, 14], [9, 31], [21, 42], [28, 84], [36, 44], [51, 67], [71, 91], [80, 100], [\n",
      "\u001b[1;31mModuleNotFoundError\u001b[0m: No module named 'harmoni'"
     ]
    }
   ],
   "source": [
    "import os,sys\n",
    "dir_path=os.path.dirname(\"C:\\\\Users\\\\edway\\\\Desktop\\\\maths\\\\thesis\\\\algo_thesis\\\\game\")\n",
    "sys.path.append(dir_path)\n",
    "import numpy as np\n",
    "from harmoni import Harmonic\n",
    "from result import result\n",
    "snakes = [[1, 38], [4, 14], [9, 31], [21, 42], [28, 84], [36, 44], [51, 67], [71, 91], [80, 100], [\n",
    "    16, 6], [47, 26], [49, 11], [56, 53], [62, 19], [64, 60], [87, 24], [93, 73], [95, 75], [98, 78]]\n",
    "dist = []\n",
    "countlist=[]\n",
    "nth = Harmonic(100)\n",
    "for d in range(1, 101):\n",
    "    dist.append(1.0/(d*nth.harmonic()))\n",
    "u=[]\n",
    "for o in range(0,100):\n",
    "    u.append(o+1)\n",
    "\n",
    "def simuharmonic(dice, sl):\n",
    "    \n",
    "    count = 0\n",
    "    path = []\n",
    "    token = 0\n",
    "    while token < 100:\n",
    "        roll = np.random.choice(range(1,101), size=1, p=dist, replace=False)[0]\n",
    "        token += roll\n",
    "        count += 1\n",
    "        if token > 100:\n",
    "            token -= roll\n",
    "            count += 1\n",
    "        for trans in sl:\n",
    "            if token == trans[0]:\n",
    "                token = trans[1]\n",
    "                break\n",
    "        path.append(token)\n",
    "    return [count, path]\n",
    "for i in range(0,10000):\n",
    "    countlist.append(simuharmonic(100,snakes))\n",
    "re = result(countlist)\n",
    "re.results()"
   ]
  },
  {
   "cell_type": "code",
   "execution_count": null,
   "metadata": {},
   "outputs": [],
   "source": []
  }
 ]
}